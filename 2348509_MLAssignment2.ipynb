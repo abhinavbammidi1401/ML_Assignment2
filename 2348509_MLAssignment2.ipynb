{
 "cells": [
  {
   "cell_type": "code",
   "execution_count": 3,
   "id": "122d9bc6-8ada-4176-ab30-e8b26a24e878",
   "metadata": {},
   "outputs": [],
   "source": [
    "import pandas as pd\n",
    "import random\n",
    "\n",
    "# Parameters for generating the dataset\n",
    "num_rows = 2000\n",
    "customer_names = [\"Alice\", \"Bob\", \"Charlie\", \"David\", \"Eve\", \"Frank\", \"Grace\", \"Hannah\"]\n",
    "products = [\"Product A\", \"Product B\", \"Product C\", \"Product D\", \"Product E\"]\n",
    "genders = [\"Male\", \"Female\"]\n",
    "repeat_purchase_options = [\"Yes\", \"No\"]\n",
    "\n",
    "# Initialize empty lists to store data\n",
    "data = {\n",
    "    \"Customer_ID\": [],\n",
    "    \"Customer_Name\": [],\n",
    "    \"Gender\": [],\n",
    "    \"Age\": [],\n",
    "    \"Order_ID\": [],\n",
    "    \"Product_Name\": [],\n",
    "    \"Product_Rating\": [],\n",
    "    \"Repeat_purchase\": []\n",
    "}\n",
    "\n",
    "# Generate random data\n",
    "for i in range(num_rows):\n",
    "    customer_id = i + 1\n",
    "    customer_name = random.choice(customer_names)\n",
    "    gender = random.choice(genders)\n",
    "    age = random.randint(18, 70)\n",
    "    order_id = f\"ORD{i+1}\"\n",
    "    product_name = random.choice(products)\n",
    "    product_rating = round(random.uniform(1, 5), 2)\n",
    "    repeat_purchase = random.choice(repeat_purchase_options)\n",
    "    \n",
    "    data[\"Customer_ID\"].append(customer_id)\n",
    "    data[\"Customer_Name\"].append(customer_name)\n",
    "    data[\"Gender\"].append(gender)\n",
    "    data[\"Age\"].append(age)\n",
    "    data[\"Order_ID\"].append(order_id)\n",
    "    data[\"Product_Name\"].append(product_name)\n",
    "    data[\"Product_Rating\"].append(product_rating)\n",
    "    data[\"Repeat_purchase\"].append(repeat_purchase)\n",
    "\n",
    "# Create a DataFrame from the generated data\n",
    "df = pd.DataFrame(data)\n",
    "\n",
    "# Save the DataFrame to a CSV file\n",
    "df.to_csv(\"data_mining_dataset.csv\", index=False)"
   ]
  },
  {
   "cell_type": "code",
   "execution_count": 4,
   "id": "ca8f37df-09e3-458a-ad7b-9974d5344b9e",
   "metadata": {},
   "outputs": [
    {
     "data": {
      "text/html": [
       "<div>\n",
       "<style scoped>\n",
       "    .dataframe tbody tr th:only-of-type {\n",
       "        vertical-align: middle;\n",
       "    }\n",
       "\n",
       "    .dataframe tbody tr th {\n",
       "        vertical-align: top;\n",
       "    }\n",
       "\n",
       "    .dataframe thead th {\n",
       "        text-align: right;\n",
       "    }\n",
       "</style>\n",
       "<table border=\"1\" class=\"dataframe\">\n",
       "  <thead>\n",
       "    <tr style=\"text-align: right;\">\n",
       "      <th></th>\n",
       "      <th>Customer_ID</th>\n",
       "      <th>Customer_Name</th>\n",
       "      <th>Gender</th>\n",
       "      <th>Age</th>\n",
       "      <th>Order_ID</th>\n",
       "      <th>Product_Name</th>\n",
       "      <th>Product_Rating</th>\n",
       "      <th>Repeat_purchase</th>\n",
       "    </tr>\n",
       "  </thead>\n",
       "  <tbody>\n",
       "    <tr>\n",
       "      <th>0</th>\n",
       "      <td>1</td>\n",
       "      <td>Bob</td>\n",
       "      <td>Female</td>\n",
       "      <td>69</td>\n",
       "      <td>ORD1</td>\n",
       "      <td>Product A</td>\n",
       "      <td>3.98</td>\n",
       "      <td>No</td>\n",
       "    </tr>\n",
       "    <tr>\n",
       "      <th>1</th>\n",
       "      <td>2</td>\n",
       "      <td>Frank</td>\n",
       "      <td>Female</td>\n",
       "      <td>37</td>\n",
       "      <td>ORD2</td>\n",
       "      <td>Product D</td>\n",
       "      <td>4.43</td>\n",
       "      <td>Yes</td>\n",
       "    </tr>\n",
       "    <tr>\n",
       "      <th>2</th>\n",
       "      <td>3</td>\n",
       "      <td>Hannah</td>\n",
       "      <td>Male</td>\n",
       "      <td>64</td>\n",
       "      <td>ORD3</td>\n",
       "      <td>Product D</td>\n",
       "      <td>3.13</td>\n",
       "      <td>No</td>\n",
       "    </tr>\n",
       "    <tr>\n",
       "      <th>3</th>\n",
       "      <td>4</td>\n",
       "      <td>Eve</td>\n",
       "      <td>Male</td>\n",
       "      <td>55</td>\n",
       "      <td>ORD4</td>\n",
       "      <td>Product D</td>\n",
       "      <td>1.49</td>\n",
       "      <td>No</td>\n",
       "    </tr>\n",
       "    <tr>\n",
       "      <th>4</th>\n",
       "      <td>5</td>\n",
       "      <td>David</td>\n",
       "      <td>Male</td>\n",
       "      <td>20</td>\n",
       "      <td>ORD5</td>\n",
       "      <td>Product E</td>\n",
       "      <td>1.72</td>\n",
       "      <td>Yes</td>\n",
       "    </tr>\n",
       "  </tbody>\n",
       "</table>\n",
       "</div>"
      ],
      "text/plain": [
       "   Customer_ID Customer_Name  Gender  Age Order_ID Product_Name  \\\n",
       "0            1           Bob  Female   69     ORD1    Product A   \n",
       "1            2         Frank  Female   37     ORD2    Product D   \n",
       "2            3        Hannah    Male   64     ORD3    Product D   \n",
       "3            4           Eve    Male   55     ORD4    Product D   \n",
       "4            5         David    Male   20     ORD5    Product E   \n",
       "\n",
       "   Product_Rating Repeat_purchase  \n",
       "0            3.98              No  \n",
       "1            4.43             Yes  \n",
       "2            3.13              No  \n",
       "3            1.49              No  \n",
       "4            1.72             Yes  "
      ]
     },
     "execution_count": 4,
     "metadata": {},
     "output_type": "execute_result"
    }
   ],
   "source": [
    "df.head()"
   ]
  },
  {
   "cell_type": "code",
   "execution_count": 5,
   "id": "3de4e371-fb32-4d60-b152-1201ccc3c054",
   "metadata": {},
   "outputs": [
    {
     "name": "stdout",
     "output_type": "stream",
     "text": [
      "  Age Group  Number of Customers  Average Product Rating\n",
      "0     18-29                  465                2.952989\n",
      "1     30-39                  372                3.061290\n",
      "2     40-49                  373                3.094745\n",
      "3     50-59                  388                2.949459\n",
      "4     60-70                  369                2.953930\n"
     ]
    }
   ],
   "source": [
    "import pandas as pd\n",
    "import random\n",
    "\n",
    "# ... (previous code for generating the dataset)\n",
    "\n",
    "# Load the generated dataset CSV into a DataFrame\n",
    "df = pd.read_csv(\"data_mining_dataset.csv\")\n",
    "\n",
    "# Define age groups\n",
    "age_bins = [18, 30, 40, 50, 60, 70]\n",
    "age_labels = [\"18-29\", \"30-39\", \"40-49\", \"50-59\", \"60-70\"]\n",
    "\n",
    "# Create a new column 'Age_Group' based on the age bins\n",
    "df['Age_Group'] = pd.cut(df['Age'], bins=age_bins, labels=age_labels, right=False)\n",
    "\n",
    "# Group the data by age group and calculate statistics\n",
    "age_group_stats = df.groupby('Age_Group').agg({\n",
    "    'Customer_ID': 'count',\n",
    "    'Product_Rating': 'mean'\n",
    "}).reset_index()\n",
    "\n",
    "# Rename columns for clarity\n",
    "age_group_stats.rename(columns={\n",
    "    'Age_Group': 'Age Group',\n",
    "    'Customer_ID': 'Number of Customers',\n",
    "    'Product_Rating': 'Average Product Rating'\n",
    "}, inplace=True)\n",
    "\n",
    "# Print the grouped statistics\n",
    "print(age_group_stats)"
   ]
  },
  {
   "cell_type": "code",
   "execution_count": 6,
   "id": "f86ebabd-f0aa-43c7-959c-ede94d216e85",
   "metadata": {},
   "outputs": [
    {
     "data": {
      "image/png": "[encoded data removed]",
      "text/plain": [
       "<Figure size 720x432 with 1 Axes>"
      ]
     },
     "metadata": {
      "needs_background": "light"
     },
     "output_type": "display_data"
    }
   ],
   "source": [
    "import matplotlib.pyplot as plt\n",
    "\n",
    "# Plot the statistics using a bar plot\n",
    "plt.figure(figsize=(10, 6))\n",
    "plt.bar(age_group_stats['Age Group'], age_group_stats['Number of Customers'], label='Number of Customers')\n",
    "plt.plot(age_group_stats['Age Group'], age_group_stats['Average Product Rating'], marker='o', color='r', label='Average Product Rating')\n",
    "plt.xlabel('Age Group')\n",
    "plt.ylabel('Count / Rating')\n",
    "plt.title('Age Group Statistics')\n",
    "plt.legend()\n",
    "plt.xticks(rotation=45)\n",
    "plt.tight_layout()\n",
    "\n",
    "# Show the plot\n",
    "plt.show()"
   ]
  },
  {
   "cell_type": "code",
   "execution_count": 7,
   "id": "86750e37-4f6f-4c9b-a8f2-b90c941c8e37",
   "metadata": {},
   "outputs": [],
   "source": [
    "# Perform one-hot encoding for 'Gender' and 'Repeat_purchase'\n",
    "df_encoded = pd.get_dummies(df, columns=['Gender', 'Repeat_purchase'], drop_first=True)"
   ]
  },
  {
   "cell_type": "code",
   "execution_count": 8,
   "id": "7d595084-dad7-4891-bef6-bf60aab4d888",
   "metadata": {},
   "outputs": [
    {
     "data": {
      "text/html": [
       "<div>\n",
       "<style scoped>\n",
       "    .dataframe tbody tr th:only-of-type {\n",
       "        vertical-align: middle;\n",
       "    }\n",
       "\n",
       "    .dataframe tbody tr th {\n",
       "        vertical-align: top;\n",
       "    }\n",
       "\n",
       "    .dataframe thead th {\n",
       "        text-align: right;\n",
       "    }\n",
       "</style>\n",
       "<table border=\"1\" class=\"dataframe\">\n",
       "  <thead>\n",
       "    <tr style=\"text-align: right;\">\n",
       "      <th></th>\n",
       "      <th>Customer_ID</th>\n",
       "      <th>Customer_Name</th>\n",
       "      <th>Age</th>\n",
       "      <th>Order_ID</th>\n",
       "      <th>Product_Name</th>\n",
       "      <th>Product_Rating</th>\n",
       "      <th>Age_Group</th>\n",
       "      <th>Gender_Male</th>\n",
       "      <th>Repeat_purchase_Yes</th>\n",
       "    </tr>\n",
       "  </thead>\n",
       "  <tbody>\n",
       "    <tr>\n",
       "      <th>0</th>\n",
       "      <td>1</td>\n",
       "      <td>Bob</td>\n",
       "      <td>69</td>\n",
       "      <td>ORD1</td>\n",
       "      <td>Product A</td>\n",
       "      <td>3.98</td>\n",
       "      <td>60-70</td>\n",
       "      <td>0</td>\n",
       "      <td>0</td>\n",
       "    </tr>\n",
       "    <tr>\n",
       "      <th>1</th>\n",
       "      <td>2</td>\n",
       "      <td>Frank</td>\n",
       "      <td>37</td>\n",
       "      <td>ORD2</td>\n",
       "      <td>Product D</td>\n",
       "      <td>4.43</td>\n",
       "      <td>30-39</td>\n",
       "      <td>0</td>\n",
       "      <td>1</td>\n",
       "    </tr>\n",
       "    <tr>\n",
       "      <th>2</th>\n",
       "      <td>3</td>\n",
       "      <td>Hannah</td>\n",
       "      <td>64</td>\n",
       "      <td>ORD3</td>\n",
       "      <td>Product D</td>\n",
       "      <td>3.13</td>\n",
       "      <td>60-70</td>\n",
       "      <td>1</td>\n",
       "      <td>0</td>\n",
       "    </tr>\n",
       "    <tr>\n",
       "      <th>3</th>\n",
       "      <td>4</td>\n",
       "      <td>Eve</td>\n",
       "      <td>55</td>\n",
       "      <td>ORD4</td>\n",
       "      <td>Product D</td>\n",
       "      <td>1.49</td>\n",
       "      <td>50-59</td>\n",
       "      <td>1</td>\n",
       "      <td>0</td>\n",
       "    </tr>\n",
       "    <tr>\n",
       "      <th>4</th>\n",
       "      <td>5</td>\n",
       "      <td>David</td>\n",
       "      <td>20</td>\n",
       "      <td>ORD5</td>\n",
       "      <td>Product E</td>\n",
       "      <td>1.72</td>\n",
       "      <td>18-29</td>\n",
       "      <td>1</td>\n",
       "      <td>1</td>\n",
       "    </tr>\n",
       "  </tbody>\n",
       "</table>\n",
       "</div>"
      ],
      "text/plain": [
       "   Customer_ID Customer_Name  Age Order_ID Product_Name  Product_Rating  \\\n",
       "0            1           Bob   69     ORD1    Product A            3.98   \n",
       "1            2         Frank   37     ORD2    Product D            4.43   \n",
       "2            3        Hannah   64     ORD3    Product D            3.13   \n",
       "3            4           Eve   55     ORD4    Product D            1.49   \n",
       "4            5         David   20     ORD5    Product E            1.72   \n",
       "\n",
       "  Age_Group  Gender_Male  Repeat_purchase_Yes  \n",
       "0     60-70            0                    0  \n",
       "1     30-39            0                    1  \n",
       "2     60-70            1                    0  \n",
       "3     50-59            1                    0  \n",
       "4     18-29            1                    1  "
      ]
     },
     "execution_count": 8,
     "metadata": {},
     "output_type": "execute_result"
    }
   ],
   "source": [
    "df_encoded.head()"
   ]
  },
  {
   "cell_type": "code",
   "execution_count": 9,
   "id": "6379abbc-cdcd-4ab3-9e00-76a4b63935b6",
   "metadata": {},
   "outputs": [
    {
     "name": "stdout",
     "output_type": "stream",
     "text": [
      "Covariance Matrix:\n",
      "                       Age  Product_Rating\n",
      "Age             234.949514       -0.250031\n",
      "Product_Rating   -0.250031        1.363414\n"
     ]
    },
    {
     "data": {
      "image/png": "[encoded data removed]",
      "text/plain": [
       "<Figure size 432x288 with 2 Axes>"
      ]
     },
     "metadata": {
      "needs_background": "light"
     },
     "output_type": "display_data"
    }
   ],
   "source": [
    "import seaborn as sns\n",
    "# Calculate the covariance matrix\n",
    "cov_matrix = df[['Age', 'Product_Rating']].cov()\n",
    "\n",
    "# Print the covariance matrix\n",
    "print(\"Covariance Matrix:\")\n",
    "print(cov_matrix)\n",
    "\n",
    "# Visualize the covariance matrix using a heatmap\n",
    "plt.figure(figsize=(6, 4))\n",
    "sns.heatmap(cov_matrix, annot=True, cmap='Blues', center=0)\n",
    "plt.title(\"Covariance Matrix: Age vs Product Rating\")\n",
    "plt.show()"
   ]
  },
  {
   "cell_type": "code",
   "execution_count": 10,
   "id": "bd832787-67b7-48ca-936d-5053c722442e",
   "metadata": {},
   "outputs": [
    {
     "name": "stdout",
     "output_type": "stream",
     "text": [
      "Chi-square: 0.10288204014236031\n",
      "P-value: 0.7483981073327506\n",
      "Degrees of Freedom: 1\n",
      "Expected Frequencies Table:\n",
      "[[468.918 487.082]\n",
      " [512.082 531.918]]\n"
     ]
    }
   ],
   "source": [
    "import scipy.stats as stats\n",
    "\n",
    "# Create a contingency table\n",
    "contingency_table = pd.crosstab(df['Gender'], df['Repeat_purchase'])\n",
    "\n",
    "# Perform the chi-square test\n",
    "chi2, p, dof, expected = stats.chi2_contingency(contingency_table)\n",
    "\n",
    "# Print the results\n",
    "print(\"Chi-square:\", chi2)\n",
    "print(\"P-value:\", p)\n",
    "print(\"Degrees of Freedom:\", dof)\n",
    "print(\"Expected Frequencies Table:\")\n",
    "print(expected)"
   ]
  },
  {
   "cell_type": "code",
   "execution_count": 11,
   "id": "31c86898-bf5d-4112-9a67-2e0f28198943",
   "metadata": {},
   "outputs": [
    {
     "data": {
      "image/png": "[encoded data removed]",
      "text/plain": [
       "<Figure size 432x288 with 1 Axes>"
      ]
     },
     "metadata": {
      "needs_background": "light"
     },
     "output_type": "display_data"
    }
   ],
   "source": [
    "# Plot the results using a stacked bar plot\n",
    "contingency_table.plot(kind='bar', stacked=True)\n",
    "plt.title(\"Gender vs Repeat Purchase\")\n",
    "plt.xlabel(\"Gender\")\n",
    "plt.ylabel(\"Count\")\n",
    "plt.legend(title=\"Repeat Purchase\")\n",
    "plt.xticks(rotation=0)\n",
    "plt.show()"
   ]
  },
  {
   "cell_type": "code",
   "execution_count": 12,
   "id": "c580bef9-863b-4a81-82c8-0482a2b927ab",
   "metadata": {},
   "outputs": [
    {
     "name": "stdout",
     "output_type": "stream",
     "text": [
      "T-Statistic: -0.5519743295777915\n",
      "P-Value: 0.5810276731525494\n"
     ]
    },
    {
     "data": {
      "image/png": "[encoded data removed]",
      "text/plain": [
       "<Figure size 576x432 with 1 Axes>"
      ]
     },
     "metadata": {
      "needs_background": "light"
     },
     "output_type": "display_data"
    }
   ],
   "source": [
    "# Perform independent t-test\n",
    "repeat_purchase_ratings = df[df['Repeat_purchase'] == 'Yes']['Product_Rating']\n",
    "no_repeat_purchase_ratings = df[df['Repeat_purchase'] == 'No']['Product_Rating']\n",
    "\n",
    "t_statistic, p_value = stats.ttest_ind(repeat_purchase_ratings, no_repeat_purchase_ratings)\n",
    "\n",
    "# Print the t-test results\n",
    "print(\"T-Statistic:\", t_statistic)\n",
    "print(\"P-Value:\", p_value)\n",
    "\n",
    "# Visualize the results using box plots\n",
    "plt.figure(figsize=(8, 6))\n",
    "sns.boxplot(x=df['Repeat_purchase'], y=df['Product_Rating'])\n",
    "plt.title(\"Product Rating by Repeat Purchase\")\n",
    "plt.xlabel(\"Repeat Purchase\")\n",
    "plt.ylabel(\"Product Rating\")\n",
    "plt.show()"
   ]
  },
  {
   "cell_type": "code",
   "execution_count": 13,
   "id": "1261a844-2c7b-4c96-8f12-4f54e8fae04c",
   "metadata": {},
   "outputs": [
    {
     "data": {
      "image/png": "[encoded data removed]",
      "text/plain": [
       "<Figure size 576x432 with 1 Axes>"
      ]
     },
     "metadata": {
      "needs_background": "light"
     },
     "output_type": "display_data"
    }
   ],
   "source": [
    "plt.figure(figsize=(8, 6))\n",
    "sns.violinplot(x=df['Repeat_purchase'], y=df['Product_Rating'])\n",
    "plt.title(\"Product Rating by Repeat Purchase\")\n",
    "plt.xlabel(\"Repeat Purchase\")\n",
    "plt.ylabel(\"Product Rating\")\n",
    "plt.show()"
   ]
  },
  {
   "cell_type": "code",
   "execution_count": null,
   "id": "342ea861-7187-4aeb-84b0-4f6d7be93ba4",
   "metadata": {},
   "outputs": [],
   "source": []
  }
 ],
 "metadata": {
  "kernelspec": {
   "display_name": "Python 3 (ipykernel)",
   "language": "python",
   "name": "python3"
  },
  "language_info": {
   "codemirror_mode": {
    "name": "ipython",
    "version": 3
   },
   "file_extension": ".py",
   "mimetype": "text/x-python",
   "name": "python",
   "nbconvert_exporter": "python",
   "pygments_lexer": "ipython3",
   "version": "3.10.5"
  }
 },
 "nbformat": 4,
 "nbformat_minor": 5
}
